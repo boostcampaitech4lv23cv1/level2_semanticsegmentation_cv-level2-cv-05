{
 "cells": [
  {
   "cell_type": "code",
   "execution_count": 1,
   "metadata": {},
   "outputs": [
    {
     "name": "stderr",
     "output_type": "stream",
     "text": [
      "/opt/conda/envs/openmmlab/lib/python3.8/site-packages/mmcv/__init__.py:20: UserWarning: On January 1, 2023, MMCV will release v2.0.0, in which it will remove components related to the training process and add a data transformation module. In addition, it will rename the package names mmcv to mmcv-lite and mmcv-full to mmcv. See https://github.com/open-mmlab/mmcv/blob/master/docs/en/compatibility.md for more details.\n",
      "  warnings.warn(\n"
     ]
    }
   ],
   "source": [
    "import os\n",
    "\n",
    "from mmcv import Config\n",
    "from mmseg.datasets import build_dataloader, build_dataset\n",
    "from mmseg.models import build_segmentor\n",
    "from mmseg.apis import single_gpu_test\n",
    "from mmcv.runner import load_checkpoint\n",
    "from mmcv.parallel import MMDataParallel\n",
    "\n",
    "import pandas as pd\n",
    "import numpy as np\n",
    "import json"
   ]
  },
  {
   "cell_type": "markdown",
   "metadata": {},
   "source": [
    "# Get Prediction from MMSeg\n",
    "\n",
    "## Need to change MMseg code \n",
    "\n",
    "\n",
    "### mmseg/model/segmentors/encoder_decoder.py, code line 282 \n",
    "### seg_pred = seg_logit.argmax(dim=1) --> seg_pred = seg_logit \n"
   ]
  },
  {
   "cell_type": "code",
   "execution_count": 2,
   "metadata": {},
   "outputs": [
    {
     "name": "stderr",
     "output_type": "stream",
     "text": [
      "2023-01-05 02:03:45,893 - mmseg - INFO - Loaded 819 images\n",
      "/opt/ml/input/mmsegmentation/mmseg/models/losses/cross_entropy_loss.py:276: UserWarning: Default ``avg_non_ignore`` is False, if you would like to ignore the certain label and average loss over non-ignore labels, which is the same with PyTorch official cross_entropy, set ``avg_non_ignore=True``.\n",
      "  warnings.warn(\n"
     ]
    },
    {
     "name": "stdout",
     "output_type": "stream",
     "text": [
      "load checkpoint from local path: /opt/ml/input/mmsegmentation/work_dirs/base_split3/best_mIoU_epoch_64.pth\n"
     ]
    }
   ],
   "source": [
    "# config file 들고오기\n",
    "cfg = Config.fromfile('/opt/ml/input/mmsegmentation/configs/_swinL_/_base_/base_split3.py')\n",
    "root='/opt/ml/input/data/mmseg/images/test'\n",
    "epoch = 'best_mIoU_epoch_64'\n",
    "\n",
    "# dataset config 수정\n",
    "cfg.data.test.img_dir = root\n",
    "# cfg.data.test.pipeline[1]['img_scale'] = (512,512) # Resize\n",
    "cfg.data.test.test_mode = True\n",
    "\n",
    "cfg.data.samples_per_gpu = 1\n",
    "\n",
    "cfg.work_dir = '/opt/ml/input/mmsegmentation/work_dirs/base_split3'\n",
    "\n",
    "cfg.optimizer_config.grad_clip = dict(max_norm=35, norm_type=2)\n",
    "cfg.model.train_cfg = None\n",
    "\n",
    "# checkpoint path\n",
    "checkpoint_path = os.path.join(cfg.work_dir, f'{epoch}.pth')\n",
    "\n",
    "dataset = build_dataset(cfg.data.test)\n",
    "data_loader = build_dataloader(\n",
    "        dataset,\n",
    "        samples_per_gpu=cfg.data.samples_per_gpu,\n",
    "        workers_per_gpu=cfg.data.workers_per_gpu,\n",
    "        dist=False,\n",
    "        shuffle=False)\n",
    "\n",
    "model1 = build_segmentor(cfg.model, test_cfg=cfg.get('test_cfg'))\n",
    "checkpoint = load_checkpoint(model1, checkpoint_path, map_location='cpu')\n",
    "\n",
    "model1.CLASSES = dataset.CLASSES\n",
    "model1 = MMDataParallel(model1.cuda(), device_ids=[0])"
   ]
  },
  {
   "cell_type": "code",
   "execution_count": 3,
   "metadata": {},
   "outputs": [
    {
     "name": "stderr",
     "output_type": "stream",
     "text": [
      "2023-01-05 02:03:53,342 - mmseg - INFO - Loaded 819 images\n"
     ]
    },
    {
     "name": "stdout",
     "output_type": "stream",
     "text": [
      "load checkpoint from local path: /opt/ml/input/mmsegmentation/work_dirs/base_split2_pseudo/best_mIoU_epoch_67.pth\n"
     ]
    }
   ],
   "source": [
    "# config file 들고오기\n",
    "cfg = Config.fromfile('/opt/ml/input/mmsegmentation/configs/_swinL_/_base_/base_split2_pseudo.py')\n",
    "root='/opt/ml/input/data/mmseg/images/test'\n",
    "epoch = 'best_mIoU_epoch_67'\n",
    "\n",
    "# dataset config 수정\n",
    "cfg.data.test.img_dir = root\n",
    "# cfg.data.test.pipeline[1]['img_scale'] = (512,512) # Resize\n",
    "cfg.data.test.test_mode = True\n",
    "\n",
    "cfg.data.samples_per_gpu = 1\n",
    "\n",
    "cfg.work_dir = '/opt/ml/input/mmsegmentation/work_dirs/base_split2_pseudo'\n",
    "\n",
    "cfg.optimizer_config.grad_clip = dict(max_norm=35, norm_type=2)\n",
    "cfg.model.train_cfg = None\n",
    "\n",
    "# checkpoint path\n",
    "checkpoint_path = os.path.join(cfg.work_dir, f'{epoch}.pth')\n",
    "\n",
    "dataset = build_dataset(cfg.data.test)\n",
    "data_loader = build_dataloader(\n",
    "        dataset,\n",
    "        samples_per_gpu=cfg.data.samples_per_gpu,\n",
    "        workers_per_gpu=cfg.data.workers_per_gpu,\n",
    "        dist=False,\n",
    "        shuffle=False)\n",
    "\n",
    "model2 = build_segmentor(cfg.model, test_cfg=cfg.get('test_cfg'))\n",
    "checkpoint = load_checkpoint(model2, checkpoint_path, map_location='cpu')\n",
    "\n",
    "model2.CLASSES = dataset.CLASSES\n",
    "model2 = MMDataParallel(model2.cuda(), device_ids=[0])"
   ]
  },
  {
   "cell_type": "code",
   "execution_count": 4,
   "metadata": {},
   "outputs": [
    {
     "name": "stderr",
     "output_type": "stream",
     "text": [
      "2023-01-05 02:05:21,374 - mmseg - INFO - Loaded 819 images\n"
     ]
    },
    {
     "name": "stdout",
     "output_type": "stream",
     "text": [
      "load checkpoint from local path: /opt/ml/input/mmsegmentation/work_dirs/base_split1_pseudo/best_mIoU_epoch_44.pth\n"
     ]
    }
   ],
   "source": [
    "# config file 들고오기\n",
    "cfg = Config.fromfile('/opt/ml/input/mmsegmentation/configs/_swinL_/_base_/base_split1_pseudo.py')\n",
    "root='/opt/ml/input/data/mmseg/images/test'\n",
    "epoch = 'epoch_70'\n",
    "\n",
    "# dataset config 수정\n",
    "cfg.data.test.img_dir = root\n",
    "# cfg.data.test.pipeline[1]['img_scale'] = (512,512) # Resize\n",
    "cfg.data.test.test_mode = True\n",
    "\n",
    "cfg.data.samples_per_gpu = 1\n",
    "\n",
    "cfg.work_dir = '/opt/ml/input/mmsegmentation/work_dirs/base_split1_pseudo'\n",
    "\n",
    "cfg.optimizer_config.grad_clip = dict(max_norm=35, norm_type=2)\n",
    "cfg.model.train_cfg = None\n",
    "\n",
    "# checkpoint path\n",
    "checkpoint_path = os.path.join(cfg.work_dir, f'{epoch}.pth')\n",
    "\n",
    "dataset = build_dataset(cfg.data.test)\n",
    "data_loader = build_dataloader(\n",
    "        dataset,\n",
    "        samples_per_gpu=cfg.data.samples_per_gpu,\n",
    "        workers_per_gpu=cfg.data.workers_per_gpu,\n",
    "        dist=False,\n",
    "        shuffle=False)\n",
    "\n",
    "model3 = build_segmentor(cfg.model, test_cfg=cfg.get('test_cfg'))\n",
    "checkpoint = load_checkpoint(model3, checkpoint_path, map_location='cpu')\n",
    "\n",
    "model3.CLASSES = dataset.CLASSES\n",
    "model3 = MMDataParallel(model3.cuda(), device_ids=[0])"
   ]
  },
  {
   "cell_type": "code",
   "execution_count": 5,
   "metadata": {},
   "outputs": [
    {
     "name": "stdout",
     "output_type": "stream",
     "text": [
      "[>>>>>>>>>>>>>>>>>>>>>>>>>>>>] 819/819, 0.5 task/s, elapsed: 1502s, ETA:     0sdone\n"
     ]
    }
   ],
   "source": [
    "output_mmseg1 = single_gpu_test(model1, data_loader)\n",
    "print(\"done\")"
   ]
  },
  {
   "cell_type": "code",
   "execution_count": 6,
   "metadata": {},
   "outputs": [
    {
     "name": "stdout",
     "output_type": "stream",
     "text": [
      "[>>>>>>>>>>>>>>>>>>>>>>>>>>>>] 819/819, 0.5 task/s, elapsed: 1506s, ETA:     0sdone\n"
     ]
    }
   ],
   "source": [
    "output_mmseg2 = single_gpu_test(model2, data_loader)\n",
    "print(\"done\")"
   ]
  },
  {
   "cell_type": "code",
   "execution_count": 7,
   "metadata": {},
   "outputs": [
    {
     "name": "stdout",
     "output_type": "stream",
     "text": [
      "[>>>>>>>>>>>>>>>>>>>>>>>>>>>>] 819/819, 0.5 task/s, elapsed: 1516s, ETA:     0sdone\n"
     ]
    }
   ],
   "source": [
    "output_mmseg3 = single_gpu_test(model3, data_loader)\n",
    "print(\"done\")"
   ]
  },
  {
   "cell_type": "markdown",
   "metadata": {},
   "source": [
    "# Get Prediction from baseline"
   ]
  },
  {
   "cell_type": "code",
   "execution_count": null,
   "metadata": {},
   "outputs": [],
   "source": [
    "# import sys\n",
    "\n",
    "# sys.path.append(\"/opt/ml/segmentation/baseline_code\")"
   ]
  },
  {
   "cell_type": "code",
   "execution_count": null,
   "metadata": {},
   "outputs": [],
   "source": [
    "# import os\n",
    "# import torch\n",
    "# import pandas as pd\n",
    "# import numpy as np\n",
    "# import yaml\n",
    "# import ttach as tta\n",
    "\n",
    "# from tools import test\n",
    "# from data_set.data_augmentation import get_transform\n",
    "# from data_set.data_set import CustomDataSet, collate_fn\n",
    "# from model.custom_encoder import register_encoder\n",
    "# import segmentation_models_pytorch as smp\n",
    "\n",
    "# import torch.nn.functional as F\n",
    "\n",
    "# @torch.no_grad()\n",
    "# def inference(cfg, device):\n",
    "\n",
    "#     register_encoder()\n",
    "\n",
    "#     # TTA transform\n",
    "#     tta_transforms = tta.Compose(\n",
    "#     [\n",
    "#         tta.HorizontalFlip(),\n",
    "#         tta.VerticalFlip(),\n",
    "#         tta.Scale(scales=[0.5, 0.75, 1.0, 1.25, 1.5])\n",
    "#     ])\n",
    "    \n",
    "#     dataset_path  = '../input/data'\n",
    "#     test_path = '../input/data/test.json'\n",
    "#     test_transform = get_transform('test_transform')\n",
    "#     test_dataset = CustomDataSet(data_dir=test_path, dataset_path=dataset_path, mode='test', transform=test_transform)\n",
    "#     test_loader = torch.utils.data.DataLoader(dataset=test_dataset,\n",
    "#                                           batch_size=16,\n",
    "#                                           shuffle=False,\n",
    "#                                           num_workers=4,\n",
    "#                                           collate_fn=collate_fn)\n",
    "\n",
    "\n",
    "#     model_path =  f\"{cfg['saved_dir']}/{cfg['exp_name']}/{cfg['exp_name']}.pt\"                                    \n",
    "    \n",
    "#     # model 불러오기\n",
    "#     model = smp.__dict__[cfg['model']['name']]\n",
    "#     model = model(encoder_weights=None, **cfg['model']['params'])\n",
    "#     # best model 불러오기\n",
    "#     checkpoint = torch.load(model_path, map_location=device)\n",
    "#     model.load_state_dict(checkpoint)\n",
    "\n",
    "\n",
    "#     model = model.to(device)\n",
    "#     # 추론을 실행하기 전에는 반드시 설정 (batch normalization, dropout 를 평가 모드로 설정)\n",
    "#     model.eval()\n",
    "\n",
    "#     tta_model = tta.SegmentationTTAWrapper(model, tta_transforms, merge_mode='mean')\n",
    "\n",
    "#     # test set에 대한 prediction\n",
    "#     preds = test(tta_model, test_loader, device)\n",
    "#     preds = F.softmax(preds, dim=1)\n",
    "#     preds = preds.cpu().numpy()\n",
    "#     preds = list(preds)\n",
    "\n",
    "#     return preds"
   ]
  },
  {
   "cell_type": "code",
   "execution_count": null,
   "metadata": {},
   "outputs": [],
   "source": [
    "# yaml_path = \"/opt/ml/segmentation/baseline_code/saved/PAN_Swin_Alldata/PAN_Swin_Alldata.yaml\"\n",
    "\n",
    "# with open(yaml_path) as f:\n",
    "#     cfg = yaml.safe_load(f)\n",
    "\n",
    "# device = \"cuda\" if torch.cuda.is_available() else \"cpu\"\n",
    "\n",
    "# output_base = inference(cfg, device)"
   ]
  },
  {
   "cell_type": "markdown",
   "metadata": {},
   "source": [
    "# Ensemble, soft voting"
   ]
  },
  {
   "cell_type": "code",
   "execution_count": 8,
   "metadata": {},
   "outputs": [
    {
     "name": "stdout",
     "output_type": "stream",
     "text": [
      "(819, 512, 512)\n"
     ]
    }
   ],
   "source": [
    "output = []\n",
    "\n",
    "for predict1, predict2, predict3 in zip(output_mmseg1, output_mmseg2, output_mmseg3):\n",
    "    predict = predict1 + predict2 + predict3\n",
    "    predict = predict.argmax(axis=0)\n",
    "    output.append(predict)\n",
    "\n",
    "output = np.array(output)\n",
    "print(output.shape)"
   ]
  },
  {
   "cell_type": "markdown",
   "metadata": {},
   "source": [
    "## Save mean login to pickle file"
   ]
  },
  {
   "cell_type": "code",
   "execution_count": 10,
   "metadata": {},
   "outputs": [],
   "source": [
    "mean_logit = []\n",
    "\n",
    "for predict1, predict2, predict3 in zip(output_mmseg1, output_mmseg2, output_mmseg3):\n",
    "    predict = predict1 + predict2 + predict3\n",
    "    predict = predict/3\n",
    "    mean_logit.append(predict)\n",
    "\n",
    "# mean_logit = np.array(mean_logit)\n",
    "# print(mean_logit.shape)"
   ]
  },
  {
   "cell_type": "code",
   "execution_count": 11,
   "metadata": {},
   "outputs": [],
   "source": [
    "import pickle\n",
    "with open('swinL_uper_split123_pseudo_update.pickle','wb') as f:\n",
    "    pickle.dump(mean_logit, f, pickle.HIGHEST_PROTOCOL)\n",
    "# with open('fold4.pickle','rb') as f:\n",
    "#     output_mmseg = pickle.load(f)"
   ]
  },
  {
   "cell_type": "code",
   "execution_count": null,
   "metadata": {},
   "outputs": [],
   "source": [
    "output_mmseg3"
   ]
  },
  {
   "cell_type": "markdown",
   "metadata": {},
   "source": [
    "# Make CSV"
   ]
  },
  {
   "cell_type": "code",
   "execution_count": 13,
   "metadata": {},
   "outputs": [],
   "source": [
    "# sample_submisson.csv 열기\n",
    "submission = pd.read_csv('/opt/ml/input/code/submission/sample_submission.csv', index_col=None)\n",
    "json_dir = os.path.join(\"/opt/ml/input/data/test.json\")\n",
    "with open(json_dir, \"r\", encoding=\"utf8\") as outfile:\n",
    "    datas = json.load(outfile)\n",
    "\n",
    "input_size = 512\n",
    "output_size = 256\n",
    "bin_size = input_size // output_size\n",
    "\n",
    "# PredictionString 대입\n",
    "for image_id, predict in enumerate(output):\n",
    "    image_id = datas[\"images\"][image_id]\n",
    "    file_name = image_id[\"file_name\"]\n",
    "    \n",
    "    temp_mask = []\n",
    "    predict = predict.reshape(1, 512, 512)\n",
    "    mask = predict.reshape((1, output_size, bin_size, output_size, bin_size)).max(4).max(2) # resize to 256*256\n",
    "    temp_mask.append(mask)\n",
    "    oms = np.array(temp_mask)\n",
    "    oms = oms.reshape([oms.shape[0], output_size*output_size]).astype(int)\n",
    "\n",
    "    string = oms.flatten()\n",
    "\n",
    "    # submission = submission.append({\"image_id\" : file_name, \"PredictionString\" : ' '.join(str(e) for e in string.tolist())}, \n",
    "    #                                ignore_index=True)\n",
    "    submission = pd.concat([submission, pd.DataFrame([{\"image_id\" : file_name, \"PredictionString\" : ' '.join(str(e) for e in string.tolist())}])]\n",
    "                                   , ignore_index=True)\n",
    "\n",
    "# submission.csv로 저장\n",
    "submission.to_csv(os.path.join('/opt/ml', f'ensemble_swinL_uper_split123_pseudo_update.csv'), index=False)"
   ]
  },
  {
   "cell_type": "code",
   "execution_count": null,
   "metadata": {},
   "outputs": [],
   "source": []
  }
 ],
 "metadata": {
  "interpreter": {
   "hash": "c31e71a5e498f0aaae29fa2d4fcce91b7642bc45d7bb4c98f573abb4911baaab"
  },
  "kernelspec": {
   "display_name": "openmmlab",
   "language": "python",
   "name": "openmmlab"
  },
  "language_info": {
   "codemirror_mode": {
    "name": "ipython",
    "version": 3
   },
   "file_extension": ".py",
   "mimetype": "text/x-python",
   "name": "python",
   "nbconvert_exporter": "python",
   "pygments_lexer": "ipython3",
   "version": "3.8.15"
  }
 },
 "nbformat": 4,
 "nbformat_minor": 4
}
