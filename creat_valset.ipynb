{
 "cells": [
  {
   "cell_type": "code",
   "execution_count": 1,
   "id": "b8e9d712-0117-42ba-a406-2fe47ec4417b",
   "metadata": {},
   "outputs": [],
   "source": [
    "import json\n",
    "import numpy as np\n",
    "from sklearn.model_selection import StratifiedGroupKFold"
   ]
  },
  {
   "cell_type": "code",
   "execution_count": 2,
   "id": "6b8ab99d-ab30-4922-a170-b339d53ae0fd",
   "metadata": {},
   "outputs": [
    {
     "data": {
      "text/plain": [
       "dict_keys(['info', 'licenses', 'images', 'categories', 'annotations'])"
      ]
     },
     "execution_count": 2,
     "metadata": {},
     "output_type": "execute_result"
    }
   ],
   "source": [
    "annotation = './input/data/train_all.json'\n",
    "with open(annotation) as f:\n",
    "    data = json.load(f)\n",
    "data.keys()"
   ]
  },
  {
   "cell_type": "code",
   "execution_count": 3,
   "id": "0b6b34a4-6cf5-4f8c-a5ad-ddbdda455501",
   "metadata": {},
   "outputs": [],
   "source": [
    "categories = data['categories']\n",
    "anns = data['annotations']\n",
    "imgs = data['images']"
   ]
  },
  {
   "cell_type": "code",
   "execution_count": 4,
   "id": "5511b65e-af3b-45a7-bbb5-41502accaef6",
   "metadata": {},
   "outputs": [
    {
     "data": {
      "text/plain": [
       "dict_keys(['id', 'image_id', 'category_id', 'segmentation', 'area', 'bbox', 'iscrowd'])"
      ]
     },
     "execution_count": 4,
     "metadata": {},
     "output_type": "execute_result"
    }
   ],
   "source": [
    "anns[0].keys()"
   ]
  },
  {
   "cell_type": "code",
   "execution_count": 5,
   "id": "b25f7fb1-7797-44c5-8da1-d57536c51221",
   "metadata": {},
   "outputs": [],
   "source": [
    "import pandas as pd \n",
    "\n",
    "object_area_per_img = {img_id:0 for img_id in range(len(imgs))}\n",
    "object_num_dict = {img_id:0 for img_id in range(len(imgs))}\n",
    "for i in range(len(anns)):\n",
    "    area = anns[i]['area']\n",
    "    img_id = anns[i]['image_id']\n",
    "    object_area_per_img[img_id] += area\n",
    "    object_num_dict[img_id] += 1"
   ]
  },
  {
   "cell_type": "code",
   "execution_count": 6,
   "id": "3cf1f2a4-a982-4c92-a0be-4b5126000218",
   "metadata": {},
   "outputs": [
    {
     "data": {
      "text/html": [
       "<div>\n",
       "<style scoped>\n",
       "    .dataframe tbody tr th:only-of-type {\n",
       "        vertical-align: middle;\n",
       "    }\n",
       "\n",
       "    .dataframe tbody tr th {\n",
       "        vertical-align: top;\n",
       "    }\n",
       "\n",
       "    .dataframe thead th {\n",
       "        text-align: right;\n",
       "    }\n",
       "</style>\n",
       "<table border=\"1\" class=\"dataframe\">\n",
       "  <thead>\n",
       "    <tr style=\"text-align: right;\">\n",
       "      <th></th>\n",
       "      <th>img_id</th>\n",
       "      <th>object_area</th>\n",
       "      <th>object_num</th>\n",
       "      <th>object_mean_area</th>\n",
       "    </tr>\n",
       "  </thead>\n",
       "  <tbody>\n",
       "    <tr>\n",
       "      <th>count</th>\n",
       "      <td>3272.000000</td>\n",
       "      <td>3272.000000</td>\n",
       "      <td>3272.000000</td>\n",
       "      <td>3271.000000</td>\n",
       "    </tr>\n",
       "    <tr>\n",
       "      <th>mean</th>\n",
       "      <td>1635.500000</td>\n",
       "      <td>80431.278117</td>\n",
       "      <td>8.019560</td>\n",
       "      <td>23633.596734</td>\n",
       "    </tr>\n",
       "    <tr>\n",
       "      <th>std</th>\n",
       "      <td>944.689367</td>\n",
       "      <td>45827.645922</td>\n",
       "      <td>8.937412</td>\n",
       "      <td>23183.390923</td>\n",
       "    </tr>\n",
       "    <tr>\n",
       "      <th>min</th>\n",
       "      <td>0.000000</td>\n",
       "      <td>0.000000</td>\n",
       "      <td>0.000000</td>\n",
       "      <td>545.625000</td>\n",
       "    </tr>\n",
       "    <tr>\n",
       "      <th>25%</th>\n",
       "      <td>817.750000</td>\n",
       "      <td>50254.125000</td>\n",
       "      <td>1.000000</td>\n",
       "      <td>7186.157576</td>\n",
       "    </tr>\n",
       "    <tr>\n",
       "      <th>50%</th>\n",
       "      <td>1635.500000</td>\n",
       "      <td>73786.250000</td>\n",
       "      <td>5.000000</td>\n",
       "      <td>15008.500000</td>\n",
       "    </tr>\n",
       "    <tr>\n",
       "      <th>75%</th>\n",
       "      <td>2453.250000</td>\n",
       "      <td>102272.250000</td>\n",
       "      <td>12.000000</td>\n",
       "      <td>32472.989583</td>\n",
       "    </tr>\n",
       "    <tr>\n",
       "      <th>max</th>\n",
       "      <td>3271.000000</td>\n",
       "      <td>358324.500000</td>\n",
       "      <td>70.000000</td>\n",
       "      <td>216136.500000</td>\n",
       "    </tr>\n",
       "  </tbody>\n",
       "</table>\n",
       "</div>"
      ],
      "text/plain": [
       "            img_id    object_area   object_num  object_mean_area\n",
       "count  3272.000000    3272.000000  3272.000000       3271.000000\n",
       "mean   1635.500000   80431.278117     8.019560      23633.596734\n",
       "std     944.689367   45827.645922     8.937412      23183.390923\n",
       "min       0.000000       0.000000     0.000000        545.625000\n",
       "25%     817.750000   50254.125000     1.000000       7186.157576\n",
       "50%    1635.500000   73786.250000     5.000000      15008.500000\n",
       "75%    2453.250000  102272.250000    12.000000      32472.989583\n",
       "max    3271.000000  358324.500000    70.000000     216136.500000"
      ]
     },
     "execution_count": 6,
     "metadata": {},
     "output_type": "execute_result"
    }
   ],
   "source": [
    "multi_label_df = pd.DataFrame({'img_id': object_area_per_img.keys(), 'object_area':object_area_per_img.values(), \n",
    "              'object_num': object_num_dict.values()})\n",
    "multi_label_df['object_mean_area'] = multi_label_df.object_area / multi_label_df.object_num\n",
    "multi_label_df.describe() # 각 칼럼의 25, 50, 75%에 해당하는 값이 각 칼럼을 4개의 class로 분류하는 threshold"
   ]
  },
  {
   "cell_type": "code",
   "execution_count": 7,
   "id": "d342eb6e-4cd3-4cf0-9b91-d96822686cec",
   "metadata": {},
   "outputs": [
    {
     "data": {
      "text/html": [
       "<div>\n",
       "<style scoped>\n",
       "    .dataframe tbody tr th:only-of-type {\n",
       "        vertical-align: middle;\n",
       "    }\n",
       "\n",
       "    .dataframe tbody tr th {\n",
       "        vertical-align: top;\n",
       "    }\n",
       "\n",
       "    .dataframe thead th {\n",
       "        text-align: right;\n",
       "    }\n",
       "</style>\n",
       "<table border=\"1\" class=\"dataframe\">\n",
       "  <thead>\n",
       "    <tr style=\"text-align: right;\">\n",
       "      <th></th>\n",
       "      <th>img_id</th>\n",
       "      <th>object_area</th>\n",
       "      <th>object_num</th>\n",
       "      <th>object_mean_area</th>\n",
       "      <th>object_area_class</th>\n",
       "      <th>object_num_class</th>\n",
       "      <th>object_mean_area_class</th>\n",
       "    </tr>\n",
       "  </thead>\n",
       "  <tbody>\n",
       "    <tr>\n",
       "      <th>0</th>\n",
       "      <td>0</td>\n",
       "      <td>133680.5</td>\n",
       "      <td>17</td>\n",
       "      <td>7863.558824</td>\n",
       "      <td>3</td>\n",
       "      <td>3</td>\n",
       "      <td>1</td>\n",
       "    </tr>\n",
       "    <tr>\n",
       "      <th>1</th>\n",
       "      <td>1</td>\n",
       "      <td>96922.0</td>\n",
       "      <td>14</td>\n",
       "      <td>6923.000000</td>\n",
       "      <td>2</td>\n",
       "      <td>3</td>\n",
       "      <td>0</td>\n",
       "    </tr>\n",
       "    <tr>\n",
       "      <th>2</th>\n",
       "      <td>2</td>\n",
       "      <td>33044.0</td>\n",
       "      <td>1</td>\n",
       "      <td>33044.000000</td>\n",
       "      <td>0</td>\n",
       "      <td>0</td>\n",
       "      <td>3</td>\n",
       "    </tr>\n",
       "    <tr>\n",
       "      <th>3</th>\n",
       "      <td>3</td>\n",
       "      <td>37967.0</td>\n",
       "      <td>2</td>\n",
       "      <td>18983.500000</td>\n",
       "      <td>0</td>\n",
       "      <td>1</td>\n",
       "      <td>2</td>\n",
       "    </tr>\n",
       "    <tr>\n",
       "      <th>4</th>\n",
       "      <td>4</td>\n",
       "      <td>107148.5</td>\n",
       "      <td>2</td>\n",
       "      <td>53574.250000</td>\n",
       "      <td>3</td>\n",
       "      <td>1</td>\n",
       "      <td>3</td>\n",
       "    </tr>\n",
       "  </tbody>\n",
       "</table>\n",
       "</div>"
      ],
      "text/plain": [
       "   img_id  object_area  object_num  object_mean_area  object_area_class  \\\n",
       "0       0     133680.5          17       7863.558824                  3   \n",
       "1       1      96922.0          14       6923.000000                  2   \n",
       "2       2      33044.0           1      33044.000000                  0   \n",
       "3       3      37967.0           2      18983.500000                  0   \n",
       "4       4     107148.5           2      53574.250000                  3   \n",
       "\n",
       "   object_num_class  object_mean_area_class  \n",
       "0                 3                       1  \n",
       "1                 3                       0  \n",
       "2                 0                       3  \n",
       "3                 1                       2  \n",
       "4                 1                       3  "
      ]
     },
     "execution_count": 7,
     "metadata": {},
     "output_type": "execute_result"
    }
   ],
   "source": [
    "object_area_class_list = []\n",
    "object_num_class_list = []\n",
    "object_mean_area_class_list = []\n",
    "\n",
    "for i, row in multi_label_df.iterrows():\n",
    "    if row['object_area'] < 50254:\n",
    "        object_area_class_list.append(0)\n",
    "    elif row['object_area'] < 73786:\n",
    "        object_area_class_list.append(1)\n",
    "    elif row['object_area'] < 102272:\n",
    "        object_area_class_list.append(2)\n",
    "    else:\n",
    "        object_area_class_list.append(3)\n",
    "        \n",
    "    if row['object_num'] < 2:\n",
    "        object_num_class_list.append(0)\n",
    "    elif row['object_num'] < 6:\n",
    "        object_num_class_list.append(1)\n",
    "    elif row['object_num'] < 13:\n",
    "        object_num_class_list.append(2)\n",
    "    else:\n",
    "        object_num_class_list.append(3)\n",
    "    \n",
    "    if row['object_mean_area'] < 7186:\n",
    "        object_mean_area_class_list.append(0)\n",
    "    elif row['object_mean_area'] < 15008:\n",
    "        object_mean_area_class_list.append(1)\n",
    "    elif row['object_mean_area'] < 32472:\n",
    "        object_mean_area_class_list.append(2)\n",
    "    else:\n",
    "        object_mean_area_class_list.append(3)\n",
    "\n",
    "multi_label_df['object_area_class'] = object_area_class_list\n",
    "multi_label_df['object_num_class'] = object_num_class_list\n",
    "multi_label_df['object_mean_area_class'] = object_mean_area_class_list\n",
    "multi_label_df.head()"
   ]
  },
  {
   "cell_type": "code",
   "execution_count": 34,
   "id": "fb1c7880-44e7-456d-becc-9029c839d3f7",
   "metadata": {},
   "outputs": [
    {
     "name": "stdout",
     "output_type": "stream",
     "text": [
      "Collecting iterative-stratification\n",
      "  Downloading iterative_stratification-0.1.7-py3-none-any.whl (8.5 kB)\n",
      "Requirement already satisfied: scipy in /opt/conda/lib/python3.8/site-packages (from iterative-stratification) (1.7.3)\n",
      "Requirement already satisfied: scikit-learn in /opt/conda/lib/python3.8/site-packages (from iterative-stratification) (1.2.0)\n",
      "Requirement already satisfied: numpy in /opt/conda/lib/python3.8/site-packages (from iterative-stratification) (1.19.2)\n",
      "Requirement already satisfied: joblib>=1.1.1 in /opt/conda/lib/python3.8/site-packages (from scikit-learn->iterative-stratification) (1.2.0)\n",
      "Requirement already satisfied: threadpoolctl>=2.0.0 in /opt/conda/lib/python3.8/site-packages (from scikit-learn->iterative-stratification) (3.1.0)\n",
      "Installing collected packages: iterative-stratification\n",
      "Successfully installed iterative-stratification-0.1.7\n"
     ]
    }
   ],
   "source": [
    "# !pip install iterative-stratification"
   ]
  },
  {
   "cell_type": "code",
   "execution_count": 8,
   "id": "5210dc61-22b5-4185-8ff6-ed77b3e74915",
   "metadata": {},
   "outputs": [
    {
     "name": "stdout",
     "output_type": "stream",
     "text": [
      "TRAIN: [array([ 0,  1,  2,  3,  4,  5,  6,  8,  9, 11])]\n",
      " TEST: [array([ 7, 10, 17, 22, 24, 29, 35, 48, 62, 64])]\n",
      "TRAIN: [array([ 1,  2,  5,  7,  8,  9, 10, 11, 12, 13])]\n",
      " TEST: [array([ 0,  3,  4,  6, 16, 21, 25, 26, 28, 33])]\n",
      "TRAIN: [array([ 0,  1,  3,  4,  5,  6,  7, 10, 12, 16])]\n",
      " TEST: [array([ 2,  8,  9, 11, 13, 14, 15, 23, 27, 30])]\n",
      "TRAIN: [array([ 0,  1,  2,  3,  4,  6,  7,  8,  9, 10])]\n",
      " TEST: [array([ 5, 12, 18, 20, 31, 40, 41, 42, 46, 53])]\n",
      "TRAIN: [array([ 0,  2,  3,  4,  5,  6,  7,  8,  9, 10])]\n",
      " TEST: [array([ 1, 19, 34, 37, 39, 44, 49, 54, 57, 59])]\n"
     ]
    }
   ],
   "source": [
    "from iterstrat.ml_stratifiers import MultilabelStratifiedKFold\n",
    "\n",
    "cv = MultilabelStratifiedKFold(n_splits=5, shuffle=True, random_state=41)\n",
    "\n",
    "for fold_ind, (train_idx, val_idx) in enumerate(cv.split(multi_label_df, multi_label_df[['object_area_class', 'object_num_class', 'object_mean_area_class']])):\n",
    "    \n",
    "    print(\"TRAIN:\", [train_idx[:10]])\n",
    "    print(\" TEST:\", [val_idx[:10]])"
   ]
  },
  {
   "cell_type": "code",
   "execution_count": 9,
   "id": "9debac12-a852-4f66-a8b2-ee91a0795eb0",
   "metadata": {},
   "outputs": [
    {
     "data": {
      "text/html": [
       "<div>\n",
       "<style scoped>\n",
       "    .dataframe tbody tr th:only-of-type {\n",
       "        vertical-align: middle;\n",
       "    }\n",
       "\n",
       "    .dataframe tbody tr th {\n",
       "        vertical-align: top;\n",
       "    }\n",
       "\n",
       "    .dataframe thead th {\n",
       "        text-align: right;\n",
       "    }\n",
       "</style>\n",
       "<table border=\"1\" class=\"dataframe\">\n",
       "  <thead>\n",
       "    <tr style=\"text-align: right;\">\n",
       "      <th></th>\n",
       "      <th>General trash</th>\n",
       "      <th>Paper</th>\n",
       "      <th>Paper pack</th>\n",
       "      <th>Metal</th>\n",
       "      <th>Glass</th>\n",
       "      <th>Plastic</th>\n",
       "      <th>Styrofoam</th>\n",
       "      <th>Plastic bag</th>\n",
       "      <th>Battery</th>\n",
       "      <th>Clothing</th>\n",
       "    </tr>\n",
       "  </thead>\n",
       "  <tbody>\n",
       "    <tr>\n",
       "      <th>training set</th>\n",
       "      <td>10.60%</td>\n",
       "      <td>35.48%</td>\n",
       "      <td>2.51%</td>\n",
       "      <td>2.14%</td>\n",
       "      <td>2.32%</td>\n",
       "      <td>11.78%</td>\n",
       "      <td>5.12%</td>\n",
       "      <td>29.13%</td>\n",
       "      <td>0.24%</td>\n",
       "      <td>0.67%</td>\n",
       "    </tr>\n",
       "    <tr>\n",
       "      <th>train - fold0</th>\n",
       "      <td>10.55%</td>\n",
       "      <td>34.43%</td>\n",
       "      <td>2.47%</td>\n",
       "      <td>2.08%</td>\n",
       "      <td>2.62%</td>\n",
       "      <td>11.93%</td>\n",
       "      <td>5.01%</td>\n",
       "      <td>30.00%</td>\n",
       "      <td>0.25%</td>\n",
       "      <td>0.67%</td>\n",
       "    </tr>\n",
       "    <tr>\n",
       "      <th>val - fold0</th>\n",
       "      <td>10.81%</td>\n",
       "      <td>39.79%</td>\n",
       "      <td>2.69%</td>\n",
       "      <td>2.40%</td>\n",
       "      <td>1.10%</td>\n",
       "      <td>11.16%</td>\n",
       "      <td>5.56%</td>\n",
       "      <td>25.58%</td>\n",
       "      <td>0.21%</td>\n",
       "      <td>0.68%</td>\n",
       "    </tr>\n",
       "    <tr>\n",
       "      <th>train - fold1</th>\n",
       "      <td>10.92%</td>\n",
       "      <td>35.91%</td>\n",
       "      <td>2.47%</td>\n",
       "      <td>2.10%</td>\n",
       "      <td>2.34%</td>\n",
       "      <td>11.59%</td>\n",
       "      <td>5.14%</td>\n",
       "      <td>28.73%</td>\n",
       "      <td>0.14%</td>\n",
       "      <td>0.64%</td>\n",
       "    </tr>\n",
       "    <tr>\n",
       "      <th>val - fold1</th>\n",
       "      <td>9.37%</td>\n",
       "      <td>33.84%</td>\n",
       "      <td>2.66%</td>\n",
       "      <td>2.29%</td>\n",
       "      <td>2.27%</td>\n",
       "      <td>12.47%</td>\n",
       "      <td>5.02%</td>\n",
       "      <td>30.65%</td>\n",
       "      <td>0.63%</td>\n",
       "      <td>0.81%</td>\n",
       "    </tr>\n",
       "    <tr>\n",
       "      <th>train - fold2</th>\n",
       "      <td>10.45%</td>\n",
       "      <td>35.71%</td>\n",
       "      <td>2.45%</td>\n",
       "      <td>2.20%</td>\n",
       "      <td>2.16%</td>\n",
       "      <td>11.59%</td>\n",
       "      <td>5.07%</td>\n",
       "      <td>29.44%</td>\n",
       "      <td>0.26%</td>\n",
       "      <td>0.68%</td>\n",
       "    </tr>\n",
       "    <tr>\n",
       "      <th>val - fold2</th>\n",
       "      <td>11.22%</td>\n",
       "      <td>34.58%</td>\n",
       "      <td>2.76%</td>\n",
       "      <td>1.90%</td>\n",
       "      <td>2.99%</td>\n",
       "      <td>12.54%</td>\n",
       "      <td>5.30%</td>\n",
       "      <td>27.88%</td>\n",
       "      <td>0.17%</td>\n",
       "      <td>0.65%</td>\n",
       "    </tr>\n",
       "    <tr>\n",
       "      <th>train - fold3</th>\n",
       "      <td>10.32%</td>\n",
       "      <td>35.60%</td>\n",
       "      <td>2.60%</td>\n",
       "      <td>2.17%</td>\n",
       "      <td>2.27%</td>\n",
       "      <td>12.06%</td>\n",
       "      <td>5.16%</td>\n",
       "      <td>28.90%</td>\n",
       "      <td>0.28%</td>\n",
       "      <td>0.64%</td>\n",
       "    </tr>\n",
       "    <tr>\n",
       "      <th>val - fold3</th>\n",
       "      <td>11.65%</td>\n",
       "      <td>35.06%</td>\n",
       "      <td>2.18%</td>\n",
       "      <td>2.03%</td>\n",
       "      <td>2.53%</td>\n",
       "      <td>10.74%</td>\n",
       "      <td>4.98%</td>\n",
       "      <td>29.96%</td>\n",
       "      <td>0.09%</td>\n",
       "      <td>0.79%</td>\n",
       "    </tr>\n",
       "    <tr>\n",
       "      <th>train - fold4</th>\n",
       "      <td>10.77%</td>\n",
       "      <td>35.77%</td>\n",
       "      <td>2.56%</td>\n",
       "      <td>2.15%</td>\n",
       "      <td>2.23%</td>\n",
       "      <td>11.72%</td>\n",
       "      <td>5.21%</td>\n",
       "      <td>28.57%</td>\n",
       "      <td>0.28%</td>\n",
       "      <td>0.73%</td>\n",
       "    </tr>\n",
       "    <tr>\n",
       "      <th>val - fold4</th>\n",
       "      <td>9.87%</td>\n",
       "      <td>34.20%</td>\n",
       "      <td>2.28%</td>\n",
       "      <td>2.09%</td>\n",
       "      <td>2.73%</td>\n",
       "      <td>12.02%</td>\n",
       "      <td>4.72%</td>\n",
       "      <td>31.60%</td>\n",
       "      <td>0.08%</td>\n",
       "      <td>0.41%</td>\n",
       "    </tr>\n",
       "  </tbody>\n",
       "</table>\n",
       "</div>"
      ],
      "text/plain": [
       "              General trash   Paper Paper pack  Metal  Glass Plastic  \\\n",
       "training set         10.60%  35.48%      2.51%  2.14%  2.32%  11.78%   \n",
       "train - fold0        10.55%  34.43%      2.47%  2.08%  2.62%  11.93%   \n",
       "val - fold0          10.81%  39.79%      2.69%  2.40%  1.10%  11.16%   \n",
       "train - fold1        10.92%  35.91%      2.47%  2.10%  2.34%  11.59%   \n",
       "val - fold1           9.37%  33.84%      2.66%  2.29%  2.27%  12.47%   \n",
       "train - fold2        10.45%  35.71%      2.45%  2.20%  2.16%  11.59%   \n",
       "val - fold2          11.22%  34.58%      2.76%  1.90%  2.99%  12.54%   \n",
       "train - fold3        10.32%  35.60%      2.60%  2.17%  2.27%  12.06%   \n",
       "val - fold3          11.65%  35.06%      2.18%  2.03%  2.53%  10.74%   \n",
       "train - fold4        10.77%  35.77%      2.56%  2.15%  2.23%  11.72%   \n",
       "val - fold4           9.87%  34.20%      2.28%  2.09%  2.73%  12.02%   \n",
       "\n",
       "              Styrofoam Plastic bag Battery Clothing  \n",
       "training set      5.12%      29.13%   0.24%    0.67%  \n",
       "train - fold0     5.01%      30.00%   0.25%    0.67%  \n",
       "val - fold0       5.56%      25.58%   0.21%    0.68%  \n",
       "train - fold1     5.14%      28.73%   0.14%    0.64%  \n",
       "val - fold1       5.02%      30.65%   0.63%    0.81%  \n",
       "train - fold2     5.07%      29.44%   0.26%    0.68%  \n",
       "val - fold2       5.30%      27.88%   0.17%    0.65%  \n",
       "train - fold3     5.16%      28.90%   0.28%    0.64%  \n",
       "val - fold3       4.98%      29.96%   0.09%    0.79%  \n",
       "train - fold4     5.21%      28.57%   0.28%    0.73%  \n",
       "val - fold4       4.72%      31.60%   0.08%    0.41%  "
      ]
     },
     "execution_count": 9,
     "metadata": {},
     "output_type": "execute_result"
    }
   ],
   "source": [
    "from collections import Counter\n",
    "\n",
    "def get_distribution(y):\n",
    "    y_distr = Counter(y)\n",
    "    y_vals_sum = sum(y_distr.values())\n",
    "\n",
    "    return [f'{y_distr[i]/y_vals_sum:.2%}' for i in range(np.max(y) +1)]\n",
    "\n",
    "var = [(ann['image_id'], ann['category_id']) for ann in data['annotations']]\n",
    "\n",
    "X = np.ones((len(data['annotations']),1))\n",
    "y = np.array([v[1] for v in var])  # class\n",
    "groups = np.array([v[0] for v in var])  # image(group)\n",
    "groups\n",
    "distrs = [get_distribution(y)]\n",
    "index = ['training set']\n",
    "origin_ann_df = pd.DataFrame(data['annotations'])\n",
    "\n",
    "for fold_ind, (train_idx, val_idx) in enumerate(cv.split(multi_label_df, multi_label_df[['object_area_class', 'object_num_class', 'object_mean_area_class']])):\n",
    "    # train_y, val_y = y[train_idx], y[val_idx]\n",
    "    # train_gr, val_gr = groups[train_idx], groups[val_idx]\n",
    "    \n",
    "    train_y = origin_ann_df[origin_ann_df['image_id'].isin(train_idx)].category_id.to_list()\n",
    "    val_y = origin_ann_df[origin_ann_df['image_id'].isin(val_idx)].category_id.to_list()\n",
    "    # train_gr, val_gr = train_idx, val_idx\n",
    "    \n",
    "    \n",
    "    \n",
    "    # assert len(set(train_gr) & set(val_gr)) == 0 \n",
    "    \n",
    "    distrs.append(get_distribution(train_y))\n",
    "    distrs.append(get_distribution(val_y))\n",
    "    index.append(f'train - fold{fold_ind}')\n",
    "    index.append(f'val - fold{fold_ind}')\n",
    "    \n",
    "categories = [d['name'] for d in data['categories']]\n",
    "for fold in distrs:\n",
    "    del fold[0]\n",
    "pd.DataFrame(distrs, index=index, columns = [categories[i] for i in range(10)])"
   ]
  },
  {
   "cell_type": "code",
   "execution_count": 10,
   "id": "04adf959-24bc-4532-ab01-2674035e4991",
   "metadata": {},
   "outputs": [
    {
     "name": "stdout",
     "output_type": "stream",
     "text": [
      "13.469999999999999 7.649999999999993 6.2000000000000055 5.5900000000000025 7.650000000000001\n"
     ]
    }
   ],
   "source": [
    "train_val_df = pd.DataFrame(distrs, index=index, columns = [categories[i] for i in range(10)])\n",
    "fold0_gap = np.sum(np.abs(np.array(list(map(lambda x:float(x[:-1]), train_val_df.iloc[1].to_list()))) - np.array(list(map(lambda x:float(x[:-1]), train_val_df.iloc[2].to_list())))))\n",
    "fold1_gap = np.sum(np.abs(np.array(list(map(lambda x:float(x[:-1]), train_val_df.iloc[3].to_list()))) - np.array(list(map(lambda x:float(x[:-1]), train_val_df.iloc[4].to_list())))))\n",
    "fold2_gap = np.sum(np.abs(np.array(list(map(lambda x:float(x[:-1]), train_val_df.iloc[5].to_list()))) - np.array(list(map(lambda x:float(x[:-1]), train_val_df.iloc[6].to_list())))))\n",
    "fold3_gap = np.sum(np.abs(np.array(list(map(lambda x:float(x[:-1]), train_val_df.iloc[7].to_list()))) - np.array(list(map(lambda x:float(x[:-1]), train_val_df.iloc[8].to_list())))))\n",
    "fold4_gap = np.sum(np.abs(np.array(list(map(lambda x:float(x[:-1]), train_val_df.iloc[9].to_list()))) - np.array(list(map(lambda x:float(x[:-1]), train_val_df.iloc[10].to_list())))))\n",
    "print(fold0_gap,fold1_gap,fold2_gap,fold3_gap,fold4_gap)"
   ]
  },
  {
   "cell_type": "code",
   "execution_count": 11,
   "id": "00a913e2-adde-45d2-b9c3-94f0e9c42d15",
   "metadata": {},
   "outputs": [
    {
     "name": "stdout",
     "output_type": "stream",
     "text": [
      "10.830000000000002 6.059999999999995 4.959999999999999 4.399999999999996 6.229999999999998\n"
     ]
    }
   ],
   "source": [
    "fold0_gap_trainingset = np.sum(np.abs(np.array(list(map(lambda x:float(x[:-1]), train_val_df.iloc[0].to_list()))) - np.array(list(map(lambda x:float(x[:-1]), train_val_df.iloc[2].to_list())))))\n",
    "fold1_gap_trainingset = np.sum(np.abs(np.array(list(map(lambda x:float(x[:-1]), train_val_df.iloc[0].to_list()))) - np.array(list(map(lambda x:float(x[:-1]), train_val_df.iloc[4].to_list())))))\n",
    "fold2_gap_trainingset = np.sum(np.abs(np.array(list(map(lambda x:float(x[:-1]), train_val_df.iloc[0].to_list()))) - np.array(list(map(lambda x:float(x[:-1]), train_val_df.iloc[6].to_list())))))\n",
    "fold3_gap_trainingset = np.sum(np.abs(np.array(list(map(lambda x:float(x[:-1]), train_val_df.iloc[0].to_list()))) - np.array(list(map(lambda x:float(x[:-1]), train_val_df.iloc[8].to_list())))))\n",
    "fold4_gap_trainingset = np.sum(np.abs(np.array(list(map(lambda x:float(x[:-1]), train_val_df.iloc[0].to_list()))) - np.array(list(map(lambda x:float(x[:-1]), train_val_df.iloc[10].to_list())))))\n",
    "print(fold0_gap_trainingset,fold1_gap_trainingset,fold2_gap_trainingset,fold3_gap_trainingset,fold4_gap_trainingset)"
   ]
  },
  {
   "cell_type": "markdown",
   "id": "b9e9ac52-66cf-43b4-8641-20d3bc429e72",
   "metadata": {},
   "source": [
    "- 기존 train_all과의 분포 차이가 가장 작으면서, 나누어진 split내의 train과 val간의 분포차이가 가장 작은 split3(4번째 split) 선택"
   ]
  },
  {
   "cell_type": "code",
   "execution_count": 52,
   "id": "7c66d282-dd62-4396-bb8d-20a48a30e9f2",
   "metadata": {},
   "outputs": [
    {
     "name": "stdout",
     "output_type": "stream",
     "text": [
      "[ 0  1  2  3  4  5  6  8  9 11]\n",
      "[ 7 10 17 22 24 29 35 48 62 64]\n",
      "train length: 2617, val length: 655\n"
     ]
    }
   ],
   "source": [
    "for fold_ind, (train_idx, val_idx) in enumerate(cv.split(multi_label_df, multi_label_df[['object_area_class', 'object_num_class', 'object_mean_area_class']])):\n",
    "    \n",
    "    if fold_ind==0:\n",
    "        fold3_best_train = train_idx\n",
    "        fold3_best_val = val_idx\n",
    "    \n",
    "print(fold3_best_train[:10])\n",
    "print(fold3_best_val[:10])\n",
    "train_idx_list = fold3_best_train\n",
    "val_idx_list = fold3_best_val\n",
    "print(f'train length: {len(train_idx_list)}, val length: {len(val_idx_list)}')\n",
    "# train, val 각각으로 사용할 image index 추출"
   ]
  },
  {
   "cell_type": "code",
   "execution_count": 53,
   "id": "7d9d9094-c315-400f-a61e-3d04deabd966",
   "metadata": {},
   "outputs": [],
   "source": [
    "multi_train_df = multi_label_df[multi_label_df['img_id'].isin(train_idx_list)]\n",
    "multi_val_df = multi_label_df[multi_label_df['img_id'].isin(val_idx_list)]"
   ]
  },
  {
   "cell_type": "code",
   "execution_count": 54,
   "id": "4566d791-d039-4a8b-8e40-ed6559add949",
   "metadata": {},
   "outputs": [
    {
     "data": {
      "text/html": [
       "<div>\n",
       "<style scoped>\n",
       "    .dataframe tbody tr th:only-of-type {\n",
       "        vertical-align: middle;\n",
       "    }\n",
       "\n",
       "    .dataframe tbody tr th {\n",
       "        vertical-align: top;\n",
       "    }\n",
       "\n",
       "    .dataframe thead th {\n",
       "        text-align: right;\n",
       "    }\n",
       "</style>\n",
       "<table border=\"1\" class=\"dataframe\">\n",
       "  <thead>\n",
       "    <tr style=\"text-align: right;\">\n",
       "      <th></th>\n",
       "      <th>img_id</th>\n",
       "      <th>object_area</th>\n",
       "      <th>object_num</th>\n",
       "      <th>object_mean_area</th>\n",
       "      <th>object_area_class</th>\n",
       "      <th>object_num_class</th>\n",
       "      <th>object_mean_area_class</th>\n",
       "    </tr>\n",
       "  </thead>\n",
       "  <tbody>\n",
       "    <tr>\n",
       "      <th>0</th>\n",
       "      <td>0</td>\n",
       "      <td>133680.5</td>\n",
       "      <td>17</td>\n",
       "      <td>7863.558824</td>\n",
       "      <td>3</td>\n",
       "      <td>3</td>\n",
       "      <td>1</td>\n",
       "    </tr>\n",
       "    <tr>\n",
       "      <th>1</th>\n",
       "      <td>1</td>\n",
       "      <td>96922.0</td>\n",
       "      <td>14</td>\n",
       "      <td>6923.000000</td>\n",
       "      <td>2</td>\n",
       "      <td>3</td>\n",
       "      <td>0</td>\n",
       "    </tr>\n",
       "    <tr>\n",
       "      <th>2</th>\n",
       "      <td>2</td>\n",
       "      <td>33044.0</td>\n",
       "      <td>1</td>\n",
       "      <td>33044.000000</td>\n",
       "      <td>0</td>\n",
       "      <td>0</td>\n",
       "      <td>3</td>\n",
       "    </tr>\n",
       "    <tr>\n",
       "      <th>3</th>\n",
       "      <td>3</td>\n",
       "      <td>37967.0</td>\n",
       "      <td>2</td>\n",
       "      <td>18983.500000</td>\n",
       "      <td>0</td>\n",
       "      <td>1</td>\n",
       "      <td>2</td>\n",
       "    </tr>\n",
       "    <tr>\n",
       "      <th>4</th>\n",
       "      <td>4</td>\n",
       "      <td>107148.5</td>\n",
       "      <td>2</td>\n",
       "      <td>53574.250000</td>\n",
       "      <td>3</td>\n",
       "      <td>1</td>\n",
       "      <td>3</td>\n",
       "    </tr>\n",
       "  </tbody>\n",
       "</table>\n",
       "</div>"
      ],
      "text/plain": [
       "   img_id  object_area  object_num  object_mean_area  object_area_class  \\\n",
       "0       0     133680.5          17       7863.558824                  3   \n",
       "1       1      96922.0          14       6923.000000                  2   \n",
       "2       2      33044.0           1      33044.000000                  0   \n",
       "3       3      37967.0           2      18983.500000                  0   \n",
       "4       4     107148.5           2      53574.250000                  3   \n",
       "\n",
       "   object_num_class  object_mean_area_class  \n",
       "0                 3                       1  \n",
       "1                 3                       0  \n",
       "2                 0                       3  \n",
       "3                 1                       2  \n",
       "4                 1                       3  "
      ]
     },
     "execution_count": 54,
     "metadata": {},
     "output_type": "execute_result"
    }
   ],
   "source": [
    "multi_train_df.head()"
   ]
  },
  {
   "cell_type": "code",
   "execution_count": 55,
   "id": "722d8be3-e8e3-4c88-9beb-4f62c3a0463f",
   "metadata": {},
   "outputs": [
    {
     "name": "stdout",
     "output_type": "stream",
     "text": [
      "train [0.249, 0.247, 0.249, 0.255] \n",
      "\n",
      "val [0.252, 0.263, 0.255, 0.231]\n"
     ]
    }
   ],
   "source": [
    "# object_area_class가 잘 나누어졌는지 확인\n",
    "train_bbox_num_list = multi_train_df.object_area_class.value_counts().sort_index().to_list()\n",
    "train_bbox_num_ratio = [round(i/2618,3) for i in train_bbox_num_list]\n",
    "\n",
    "val_bbox_num_list = multi_val_df.object_area_class.value_counts().sort_index().to_list()\n",
    "val_bbox_num_ratio = [round(i/654,3) for i in val_bbox_num_list] \n",
    "\n",
    "print('train',train_bbox_num_ratio,'\\n')\n",
    "print('val',val_bbox_num_ratio)"
   ]
  },
  {
   "cell_type": "code",
   "execution_count": 56,
   "id": "aae38b3a-22b1-4fbb-819b-b19b25221fd6",
   "metadata": {},
   "outputs": [
    {
     "name": "stdout",
     "output_type": "stream",
     "text": [
      "train [0.255, 0.285, 0.231, 0.228] \n",
      "\n",
      "val [0.257, 0.307, 0.222, 0.216]\n"
     ]
    }
   ],
   "source": [
    "# object_num_class가 잘 나누어졌는지 확인\n",
    "train_object_num_class_list = multi_train_df.object_num_class.value_counts().sort_index().to_list()\n",
    "train_object_num_class_ratio = [round(i/2618,3) for i in train_object_num_class_list]\n",
    "\n",
    "val_object_num_list = multi_val_df.object_num_class.value_counts().sort_index().to_list()\n",
    "val_object_num_ratio = [round(i/654,3) for i in val_object_num_list] \n",
    "\n",
    "print('train',train_object_num_class_ratio,'\\n')\n",
    "print('val',val_object_num_ratio)"
   ]
  },
  {
   "cell_type": "code",
   "execution_count": 57,
   "id": "dc2d7209-d558-4fad-bc98-9a1a968c7875",
   "metadata": {},
   "outputs": [
    {
     "name": "stdout",
     "output_type": "stream",
     "text": [
      "train [0.25, 0.248, 0.251, 0.251] \n",
      "\n",
      "val [0.251, 0.257, 0.248, 0.246]\n"
     ]
    }
   ],
   "source": [
    "# object_mean_area_class가 잘 나누어졌는지 확인\n",
    "train_object_mean_area_class_list = multi_train_df.object_mean_area_class.value_counts().sort_index().to_list()\n",
    "train_object_mean_area_class_ratio = [round(i/2618,3) for i in train_object_mean_area_class_list]\n",
    "\n",
    "val_object_mean_area_class_list = multi_val_df.object_mean_area_class.value_counts().sort_index().to_list()\n",
    "val_object_mean_area_class_ratio = [round(i/654,3) for i in val_object_mean_area_class_list] \n",
    "\n",
    "print('train',train_object_mean_area_class_ratio,'\\n')\n",
    "print('val',val_object_mean_area_class_ratio)"
   ]
  },
  {
   "cell_type": "code",
   "execution_count": 58,
   "id": "02a023bb-a33c-49b4-accf-9e2c5411194b",
   "metadata": {},
   "outputs": [],
   "source": [
    "# 모두 잘 나누어졌으므로 json파일 생성\n",
    "json_file = data.copy()"
   ]
  },
  {
   "cell_type": "code",
   "execution_count": 59,
   "id": "d6dabcc4-e060-43f5-b92e-593045ce0ffc",
   "metadata": {},
   "outputs": [],
   "source": [
    "# for i in train_idx_list:\n",
    "#     print(json_file['images'][i])\n",
    "#     if i in[100,101,102,103]:\n",
    "#         break"
   ]
  },
  {
   "cell_type": "code",
   "execution_count": 60,
   "id": "e8e9e4f8-4144-4bd2-95d2-fe5bdd9fa662",
   "metadata": {},
   "outputs": [
    {
     "name": "stdout",
     "output_type": "stream",
     "text": [
      "2617 655\n"
     ]
    }
   ],
   "source": [
    "new_data_images_train = [json_file['images'][i] for i in train_idx_list]\n",
    "new_data_images_val = [json_file['images'][i] for i in val_idx_list]\n",
    "print(len(new_data_images_train), len(new_data_images_val))"
   ]
  },
  {
   "cell_type": "code",
   "execution_count": 61,
   "id": "13f8a1ea-f1df-4f11-b14c-de12b1943788",
   "metadata": {},
   "outputs": [],
   "source": [
    "ann_id_list = []\n",
    "for ann in anns:\n",
    "    ann_id_list.append(ann['id'])"
   ]
  },
  {
   "cell_type": "code",
   "execution_count": 62,
   "id": "48ef0c7a-e39d-4472-9176-43bb682c9fb0",
   "metadata": {},
   "outputs": [
    {
     "name": "stdout",
     "output_type": "stream",
     "text": [
      "21080 5160\n"
     ]
    }
   ],
   "source": [
    "new_ann_train = []\n",
    "new_ann_val = []\n",
    "for i in range(len(data['annotations'])):\n",
    "    ann_img_id = json_file['annotations'][i]['image_id']\n",
    "    if ann_img_id in train_idx_list:\n",
    "        new_ann_train.append(json_file['annotations'][i])\n",
    "    if ann_img_id in val_idx_list:\n",
    "        new_ann_val.append(json_file['annotations'][i])\n",
    "        \n",
    "print(len(new_ann_train), len(new_ann_val))"
   ]
  },
  {
   "cell_type": "markdown",
   "id": "8c63cbb1-1419-43d1-a7f1-2bc4bc390141",
   "metadata": {},
   "source": [
    "- image의 id 초기화, ann의 image_id 및 id 초기화(baseline의 custom dataloader에서 error나서 초기화)"
   ]
  },
  {
   "cell_type": "code",
   "execution_count": 156,
   "id": "bc976acb-0add-447b-9693-144fdd07b5f8",
   "metadata": {},
   "outputs": [],
   "source": [
    "image_id_init_dict = {new_data_images_train[i]['id']:i for i in range(len(new_data_images_train))}\n",
    "for i in range(len(new_data_images_train)):\n",
    "    img = new_data_images_train[i]\n",
    "    img['id'] = i\n",
    "for i in range(len(new_ann_train)):\n",
    "    ann = new_ann_train[i]\n",
    "    ann['image_id'] = image_id_init_dict[ann['image_id']]"
   ]
  },
  {
   "cell_type": "code",
   "execution_count": 162,
   "id": "1592a557-f0cd-40d4-ba16-5f2a54ce3179",
   "metadata": {},
   "outputs": [],
   "source": [
    "image_id_init_dict = {new_data_images_val[i]['id']:i for i in range(len(new_data_images_val))}\n",
    "for i in range(len(new_data_images_val)):\n",
    "    img = new_data_images_val[i]\n",
    "    img['id'] = i\n",
    "for i in range(len(new_ann_val)):\n",
    "    ann = new_ann_val[i]\n",
    "    ann['image_id'] = image_id_init_dict[ann['image_id']]"
   ]
  },
  {
   "cell_type": "markdown",
   "id": "0b3125bb-fa05-4414-981b-dcd941fe2bf2",
   "metadata": {},
   "source": [
    "- 위 셀까지 초기화, id초기화안할거면 이 부분 건너뛰기"
   ]
  },
  {
   "cell_type": "code",
   "execution_count": 63,
   "id": "78324f18-d976-4043-b015-d3ca09a7d003",
   "metadata": {},
   "outputs": [
    {
     "name": "stdout",
     "output_type": "stream",
     "text": [
      "2617 21080\n",
      "655 5160\n"
     ]
    }
   ],
   "source": [
    "json_train = json_file.copy()\n",
    "json_val = json_file.copy()\n",
    "\n",
    "json_train['images'] = new_data_images_train\n",
    "json_train['annotations'] = new_ann_train\n",
    "\n",
    "json_val['images'] = new_data_images_val\n",
    "json_val['annotations'] = new_ann_val\n",
    "\n",
    "print(len(json_train['images']), len(json_train['annotations']))\n",
    "print(len(json_val['images']), len(json_val['annotations']))"
   ]
  },
  {
   "cell_type": "code",
   "execution_count": 64,
   "id": "9f71d22a-a88a-4fb6-b2fb-4e0c9d98c987",
   "metadata": {},
   "outputs": [
    {
     "data": {
      "text/plain": [
       "(3272, 26240)"
      ]
     },
     "execution_count": 64,
     "metadata": {},
     "output_type": "execute_result"
    }
   ],
   "source": [
    "2618 + 654, 5605+20635"
   ]
  },
  {
   "cell_type": "code",
   "execution_count": 65,
   "id": "b4b78d2d-b229-41be-b1a2-acb10d9535c0",
   "metadata": {},
   "outputs": [],
   "source": [
    "import json\n",
    "\n",
    "with open('split0_train_MultiStfKFold.json', 'w') as t:\n",
    "    json.dump(json_train, t)\n",
    "\n",
    "with open('split0_val_MultiStfKFold.json', 'w') as v:\n",
    "    json.dump(json_val, v)"
   ]
  },
  {
   "cell_type": "code",
   "execution_count": 87,
   "id": "eda2f84f-2978-4342-9e88-7c7245b150fd",
   "metadata": {},
   "outputs": [],
   "source": [
    "## baseline의 custom dataloader에서 사용하려면 여기선 train_all을 train val로 쪼갰을 때 \n",
    "##image의 id 초기화, ann의 image_id 및 id 초기화해야함"
   ]
  },
  {
   "cell_type": "code",
   "execution_count": null,
   "id": "3f297557-1599-40f5-b8a0-9dfc4e212a22",
   "metadata": {},
   "outputs": [],
   "source": [
    "# 현재 사용중인 train_MultiStfKFold.json은 split3임"
   ]
  },
  {
   "cell_type": "markdown",
   "id": "7d6d29de-f406-485f-80f8-bf62c7ee6c7e",
   "metadata": {},
   "source": [
    "## IoU가 낮은 class에 대해 finetuning"
   ]
  },
  {
   "cell_type": "markdown",
   "id": "25a34339-04a0-4be5-ab45-1319e78fa9c3",
   "metadata": {},
   "source": [
    "- General trash, Metal, Plastic, Clothing에 해당하는 ann만 남긴 후, CropNonEmptyMaskIfExists 적용하여 배경 영향 줄이면서 finetuning 시도"
   ]
  },
  {
   "cell_type": "code",
   "execution_count": 66,
   "id": "b6de2507-bffe-42f5-b18f-ed1727172c56",
   "metadata": {},
   "outputs": [
    {
     "data": {
      "text/plain": [
       "dict_keys(['info', 'licenses', 'images', 'categories', 'annotations'])"
      ]
     },
     "execution_count": 66,
     "metadata": {},
     "output_type": "execute_result"
    }
   ],
   "source": [
    "annotation = './input/data/train_MultiStfKFold.json'\n",
    "with open(annotation) as f:\n",
    "    data = json.load(f)\n",
    "data.keys()"
   ]
  },
  {
   "cell_type": "code",
   "execution_count": 67,
   "id": "e02b333b-b00a-460a-aeda-8fc45ced4f66",
   "metadata": {},
   "outputs": [
    {
     "data": {
      "text/plain": [
       "[{'id': 1, 'name': 'General trash', 'supercategory': 'General trash'},\n",
       " {'id': 2, 'name': 'Paper', 'supercategory': 'Paper'},\n",
       " {'id': 3, 'name': 'Paper pack', 'supercategory': 'Paper pack'},\n",
       " {'id': 4, 'name': 'Metal', 'supercategory': 'Metal'},\n",
       " {'id': 5, 'name': 'Glass', 'supercategory': 'Glass'},\n",
       " {'id': 6, 'name': 'Plastic', 'supercategory': 'Plastic'},\n",
       " {'id': 7, 'name': 'Styrofoam', 'supercategory': 'Styrofoam'},\n",
       " {'id': 8, 'name': 'Plastic bag', 'supercategory': 'Plastic bag'},\n",
       " {'id': 9, 'name': 'Battery', 'supercategory': 'Battery'},\n",
       " {'id': 10, 'name': 'Clothing', 'supercategory': 'Clothing'}]"
      ]
     },
     "execution_count": 67,
     "metadata": {},
     "output_type": "execute_result"
    }
   ],
   "source": [
    "data['categories'] # 1, 4, 6, 10 -> General trash, Metal, Plastic, Clothing 만 필터링"
   ]
  },
  {
   "cell_type": "code",
   "execution_count": 72,
   "id": "c45f0e48-5dfa-4292-b50b-de5f07a54795",
   "metadata": {},
   "outputs": [],
   "source": [
    "tune_class_ann_list = []\n",
    "tune_class_img_list = []\n",
    "for ann in data['annotations']:\n",
    "    if ann['category_id'] in [1, 4, 6, 10]:\n",
    "        tune_class_ann_list.append(ann)\n",
    "        tune_class_img_list.append(ann['image_id'])"
   ]
  },
  {
   "cell_type": "code",
   "execution_count": 77,
   "id": "43621635-321e-4502-bfd5-09a0cabc3c2e",
   "metadata": {},
   "outputs": [
    {
     "data": {
      "text/plain": [
       "(5198, 1689)"
      ]
     },
     "execution_count": 77,
     "metadata": {},
     "output_type": "execute_result"
    }
   ],
   "source": [
    "tune_class_img_list = list(set(tune_class_img_list))\n",
    "len(tune_class_ann_list), len(tune_class_img_list)"
   ]
  },
  {
   "cell_type": "code",
   "execution_count": 75,
   "id": "e5b56a6f-e1dd-49f9-b0a6-855cf0f4b45e",
   "metadata": {},
   "outputs": [
    {
     "data": {
      "text/plain": [
       "5288.8"
      ]
     },
     "execution_count": 75,
     "metadata": {},
     "output_type": "execute_result"
    }
   ],
   "source": [
    "(3090+2782+562+177) * 0.8"
   ]
  },
  {
   "cell_type": "code",
   "execution_count": 79,
   "id": "b7f29390-bb15-4799-ac66-ab96e3458627",
   "metadata": {},
   "outputs": [
    {
     "data": {
      "text/plain": [
       "1689"
      ]
     },
     "execution_count": 79,
     "metadata": {},
     "output_type": "execute_result"
    }
   ],
   "source": [
    "tuning_images_train = []\n",
    "for img in data['images']:\n",
    "    if img['id'] in tune_class_img_list:\n",
    "        tuning_images_train.append(img)\n",
    "len(tuning_images_train)"
   ]
  },
  {
   "cell_type": "code",
   "execution_count": 84,
   "id": "64c60e06-5323-47a9-8ebf-0dceac3af429",
   "metadata": {},
   "outputs": [
    {
     "name": "stdout",
     "output_type": "stream",
     "text": [
      "1689 5198\n"
     ]
    }
   ],
   "source": [
    "json_tuning = data.copy()\n",
    "\n",
    "json_tuning['images'] = tuning_images_train\n",
    "json_tuning['annotations'] = tune_class_ann_list\n",
    "\n",
    "print(len(json_tuning['images']), len(json_tuning['annotations']))"
   ]
  },
  {
   "cell_type": "code",
   "execution_count": 85,
   "id": "8df1151c-9f3d-4cb2-9de9-06cb14c54196",
   "metadata": {},
   "outputs": [],
   "source": [
    "with open('finetune_train_MultiStfKFold.json', 'w') as t:\n",
    "    json.dump(json_tuning, t)"
   ]
  },
  {
   "cell_type": "code",
   "execution_count": null,
   "id": "e01e5ff9-30b1-4a93-bd95-52cab8c0f655",
   "metadata": {},
   "outputs": [],
   "source": []
  }
 ],
 "metadata": {
  "kernelspec": {
   "display_name": "Python 3 (ipykernel)",
   "language": "python",
   "name": "python3"
  },
  "language_info": {
   "codemirror_mode": {
    "name": "ipython",
    "version": 3
   },
   "file_extension": ".py",
   "mimetype": "text/x-python",
   "name": "python",
   "nbconvert_exporter": "python",
   "pygments_lexer": "ipython3",
   "version": "3.8.5"
  }
 },
 "nbformat": 4,
 "nbformat_minor": 5
}
